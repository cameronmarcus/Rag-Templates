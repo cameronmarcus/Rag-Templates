{
 "cells": [
  {
   "cell_type": "code",
   "execution_count": 1,
   "id": "a1fb5037-fff6-46fc-a918-28142aa561f7",
   "metadata": {
    "tags": []
   },
   "outputs": [],
   "source": [
    "from langchain import HuggingFacePipeline\n",
    "from langchain.prompts import PromptTemplate"
   ]
  },
  {
   "cell_type": "code",
   "execution_count": null,
   "id": "a814184b-542d-4297-9d11-f66cd1c24604",
   "metadata": {
    "scrolled": true
   },
   "outputs": [
    {
     "name": "stderr",
     "output_type": "stream",
     "text": [
      "/home/user/micromamba/lib/python3.11/site-packages/tqdm/auto.py:21: TqdmWarning: IProgress not found. Please update jupyter and ipywidgets. See https://ipywidgets.readthedocs.io/en/stable/user_install.html\n",
      "  from .autonotebook import tqdm as notebook_tqdm\n",
      "Loading checkpoint shards:   0%|                                                                  | 0/3 [00:00<?, ?it/s]"
     ]
    }
   ],
   "source": [
    "pipeline = HuggingFacePipeline.from_model_id(\n",
    "    model_id=\"mistralai/Mistral-7B-Instruct-v0.2\",\n",
    "    task=\"text-generation\",\n",
    "    device=0,\n",
    "    pipeline_kwargs={\"max_new_tokens\": 10},\n",
    ")"
   ]
  },
  {
   "cell_type": "code",
   "execution_count": null,
   "id": "2cf0eec0-2042-4c92-bb9f-bb13a5890cec",
   "metadata": {},
   "outputs": [],
   "source": [
    "template = \"\"\"Question: {question}\n",
    "\n",
    "Answer: Let's think step by step.\"\"\"\n",
    "\n",
    "prompt = PromptTemplate.from_template(template)"
   ]
  },
  {
   "cell_type": "code",
   "execution_count": null,
   "id": "1ea114c1-a837-4fe6-be7f-cf00ec1431e8",
   "metadata": {},
   "outputs": [],
   "source": [
    "chain = prompt | pipeline"
   ]
  },
  {
   "cell_type": "code",
   "execution_count": null,
   "id": "af68e2f2-ce36-4e70-aacd-099a1c1d2cf3",
   "metadata": {},
   "outputs": [],
   "source": [
    "question = \"What is electroencephalography?\""
   ]
  },
  {
   "cell_type": "code",
   "execution_count": null,
   "id": "b32a7130-691f-4f20-8d80-d73af781f6cf",
   "metadata": {},
   "outputs": [],
   "source": []
  }
 ],
 "metadata": {
  "kernelspec": {
   "display_name": "Python 3 (ipykernel)",
   "language": "python",
   "name": "python3"
  },
  "language_info": {
   "codemirror_mode": {
    "name": "ipython",
    "version": 3
   },
   "file_extension": ".py",
   "mimetype": "text/x-python",
   "name": "python",
   "nbconvert_exporter": "python",
   "pygments_lexer": "ipython3",
   "version": "3.11.4"
  }
 },
 "nbformat": 4,
 "nbformat_minor": 5
}
